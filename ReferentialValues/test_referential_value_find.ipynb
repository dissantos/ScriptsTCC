{
 "cells": [
  {
   "cell_type": "markdown",
   "metadata": {},
   "source": [
    "# Valores de referência de métricas"
   ]
  },
  {
   "cell_type": "markdown",
   "metadata": {},
   "source": [
    "### Procedimento\n",
    "- Recebe caminho para pastas com projetos e a métrica a ser avaliada\n",
    "- Percorre todas as pastas nesse caminho e busca o csv daquela métrica\n",
    "- Usa o pandas para salvar esse csv\n",
    "- Armazena a última coluna desse csv em um array\n",
    "- gera grafico de distribuição"
   ]
  },
  {
   "cell_type": "code",
   "execution_count": 18,
   "metadata": {},
   "outputs": [],
   "source": [
    "import os\n",
    "import csv\n",
    "import matplotlib.pyplot as plt\n",
    "import pandas as pd\n",
    "import numpy as np\n",
    "\n",
    "%matplotlib inline"
   ]
  },
  {
   "cell_type": "code",
   "execution_count": 53,
   "metadata": {},
   "outputs": [],
   "source": [
    "\n",
    "root_path = './../../Projetos/'\n",
    "metric = 'noc'\n",
    "data = []\n",
    "for folder in os.listdir(root_path):\n",
    "    system_path = os.path.join(root_path, folder)\n",
    "    metric_path = os.path.join(system_path, metric+'.csv')\n",
    "    with open(metric_path, 'r') as csv_file:\n",
    "        csv_reader = csv.reader(csv_file)\n",
    "        for line in csv_reader:\n",
    "            data.append(float(line[-1])+1)\n",
    "data = np.sort(data)"
   ]
  },
  {
   "cell_type": "code",
   "execution_count": 54,
   "metadata": {},
   "outputs": [
    {
     "data": {
      "text/html": [
       "<div>\n",
       "<style scoped>\n",
       "    .dataframe tbody tr th:only-of-type {\n",
       "        vertical-align: middle;\n",
       "    }\n",
       "\n",
       "    .dataframe tbody tr th {\n",
       "        vertical-align: top;\n",
       "    }\n",
       "\n",
       "    .dataframe thead th {\n",
       "        text-align: right;\n",
       "    }\n",
       "</style>\n",
       "<table border=\"1\" class=\"dataframe\">\n",
       "  <thead>\n",
       "    <tr style=\"text-align: right;\">\n",
       "      <th></th>\n",
       "      <th>noc</th>\n",
       "    </tr>\n",
       "  </thead>\n",
       "  <tbody>\n",
       "    <tr>\n",
       "      <th>0</th>\n",
       "      <td>0.0</td>\n",
       "    </tr>\n",
       "    <tr>\n",
       "      <th>1</th>\n",
       "      <td>0.0</td>\n",
       "    </tr>\n",
       "    <tr>\n",
       "      <th>2</th>\n",
       "      <td>0.0</td>\n",
       "    </tr>\n",
       "    <tr>\n",
       "      <th>3</th>\n",
       "      <td>0.0</td>\n",
       "    </tr>\n",
       "    <tr>\n",
       "      <th>4</th>\n",
       "      <td>0.0</td>\n",
       "    </tr>\n",
       "    <tr>\n",
       "      <th>...</th>\n",
       "      <td>...</td>\n",
       "    </tr>\n",
       "    <tr>\n",
       "      <th>101384</th>\n",
       "      <td>166.0</td>\n",
       "    </tr>\n",
       "    <tr>\n",
       "      <th>101385</th>\n",
       "      <td>213.0</td>\n",
       "    </tr>\n",
       "    <tr>\n",
       "      <th>101386</th>\n",
       "      <td>358.0</td>\n",
       "    </tr>\n",
       "    <tr>\n",
       "      <th>101387</th>\n",
       "      <td>567.0</td>\n",
       "    </tr>\n",
       "    <tr>\n",
       "      <th>101388</th>\n",
       "      <td>840.0</td>\n",
       "    </tr>\n",
       "  </tbody>\n",
       "</table>\n",
       "<p>101389 rows × 1 columns</p>\n",
       "</div>"
      ],
      "text/plain": [
       "          noc\n",
       "0         0.0\n",
       "1         0.0\n",
       "2         0.0\n",
       "3         0.0\n",
       "4         0.0\n",
       "...       ...\n",
       "101384  166.0\n",
       "101385  213.0\n",
       "101386  358.0\n",
       "101387  567.0\n",
       "101388  840.0\n",
       "\n",
       "[101389 rows x 1 columns]"
      ]
     },
     "execution_count": 54,
     "metadata": {},
     "output_type": "execute_result"
    }
   ],
   "source": [
    "metric_df = pd.DataFrame(data=data, columns=[metric])\n",
    "metric_df"
   ]
  },
  {
   "cell_type": "code",
   "execution_count": 55,
   "metadata": {},
   "outputs": [
    {
     "data": {
      "image/png": "[encoded data removed]",
      "text/plain": [
       "<Figure size 864x288 with 1 Axes>"
      ]
     },
     "metadata": {
      "needs_background": "light"
     },
     "output_type": "display_data"
    }
   ],
   "source": [
    "metric_df[metric] = metric_df[metric].apply(pd.to_numeric)\n",
    "\n",
    "metric_df_groups  = metric_df.groupby([metric])[metric].count()\n",
    "fig,axs = plt.subplots(figsize=(12,4))\n",
    "metric_df_groups.plot.area(ax=axs,title=metric)\n",
    "\n",
    "fig.savefig(\"./Results/\"+metric+\".png\")"
   ]
  },
  {
   "cell_type": "code",
   "execution_count": 56,
   "metadata": {},
   "outputs": [
    {
     "data": {
      "text/plain": [
       "noc\n",
       "0.0      48827\n",
       "1.0      50012\n",
       "2.0        858\n",
       "3.0        618\n",
       "4.0        257\n",
       "         ...  \n",
       "166.0        1\n",
       "213.0        1\n",
       "358.0        1\n",
       "567.0        1\n",
       "840.0        1\n",
       "Name: noc, Length: 76, dtype: int64"
      ]
     },
     "execution_count": 56,
     "metadata": {},
     "output_type": "execute_result"
    }
   ],
   "source": [
    "metric_df_groups"
   ]
  },
  {
   "cell_type": "code",
   "execution_count": 57,
   "metadata": {},
   "outputs": [],
   "source": [
    "\n",
    "with open(\"./Results/\"+metric+\".txt\", 'w') as result_file:\n",
    "    print(\"Average: \"+str(np.average(data)), file=result_file)\n",
    "    print(\"Standard deviation: \"+str(np.std(data)), file=result_file)\n",
    "    print(\"Percentile 70: \"+str(np.percentile(data, 70)), file=result_file)\n",
    "    print(\"Percentile 90: \"+str(np.percentile(data,90)), file=result_file)"
   ]
  }
 ],
 "metadata": {
  "kernelspec": {
   "display_name": "Python 3.8.3 64-bit",
   "language": "python",
   "name": "python3"
  },
  "language_info": {
   "codemirror_mode": {
    "name": "ipython",
    "version": 3
   },
   "file_extension": ".py",
   "mimetype": "text/x-python",
   "name": "python",
   "nbconvert_exporter": "python",
   "pygments_lexer": "ipython3",
   "version": "3.8.3"
  },
  "orig_nbformat": 4,
  "vscode": {
   "interpreter": {
    "hash": "43694f8278121c774a392ac4e3d3685bb4eaaf74f249810dcc8c330b59cc5f6d"
   }
  }
 },
 "nbformat": 4,
 "nbformat_minor": 2
}
