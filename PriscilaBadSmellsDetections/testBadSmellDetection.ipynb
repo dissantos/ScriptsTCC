{
 "cells": [
  {
   "cell_type": "markdown",
   "metadata": {},
   "source": [
    "## Gerar arquivos de bads smells para os sistemas"
   ]
  },
  {
   "cell_type": "code",
   "execution_count": 1,
   "metadata": {},
   "outputs": [],
   "source": [
    "projects = [\"Aardvark\", \"AndEngine\", \"commons-codec\", \"commons-logging\", \"ganttproject-1.10.2\"]"
   ]
  },
  {
   "cell_type": "code",
   "execution_count": 2,
   "metadata": {},
   "outputs": [],
   "source": [
    "import sys\n",
    "import os\n",
    "from bad_smells_detection import BadSmellDetectionMetrics\n",
    "sys.path.append('./')\n",
    "sys.path.append('../')\n",
    "os.name\n",
    "for project in projects:\n",
    "    detector = BadSmellDetectionMetrics(project, '..//../SistemaRafaelMetricas/')\n",
    "    detector.detectBadSmells()\n",
    "    detector.save_bad_smells('./bad_smells_detected')\n"
   ]
  },
  {
   "cell_type": "code",
   "execution_count": 4,
   "metadata": {},
   "outputs": [
    {
     "data": {
      "text/html": [
       "<div>\n",
       "<style scoped>\n",
       "    .dataframe tbody tr th:only-of-type {\n",
       "        vertical-align: middle;\n",
       "    }\n",
       "\n",
       "    .dataframe tbody tr th {\n",
       "        vertical-align: top;\n",
       "    }\n",
       "\n",
       "    .dataframe thead th {\n",
       "        text-align: right;\n",
       "    }\n",
       "</style>\n",
       "<table border=\"1\" class=\"dataframe\">\n",
       "  <thead>\n",
       "    <tr style=\"text-align: right;\">\n",
       "      <th></th>\n",
       "      <th>class</th>\n",
       "      <th>data_class</th>\n",
       "      <th>large_class</th>\n",
       "      <th>long_method</th>\n",
       "      <th>feature_envy</th>\n",
       "      <th>refused_bequest</th>\n",
       "    </tr>\n",
       "  </thead>\n",
       "  <tbody>\n",
       "    <tr>\n",
       "      <th>class</th>\n",
       "      <td>NaN</td>\n",
       "      <td>NaN</td>\n",
       "      <td>NaN</td>\n",
       "      <td>NaN</td>\n",
       "      <td>NaN</td>\n",
       "      <td>NaN</td>\n",
       "    </tr>\n",
       "    <tr>\n",
       "      <th>class</th>\n",
       "      <td>net.sourceforge.ganttproject.gui.RolesTableModel</td>\n",
       "      <td>0</td>\n",
       "      <td>0</td>\n",
       "      <td>0</td>\n",
       "      <td>1</td>\n",
       "      <td>0</td>\n",
       "    </tr>\n",
       "    <tr>\n",
       "      <th>class</th>\n",
       "      <td>net.sourceforge.ganttproject.GanttProject$Anon...</td>\n",
       "      <td>0</td>\n",
       "      <td>0</td>\n",
       "      <td>0</td>\n",
       "      <td>0</td>\n",
       "      <td>0</td>\n",
       "    </tr>\n",
       "    <tr>\n",
       "      <th>class</th>\n",
       "      <td>net.sourceforge.ganttproject.GanttProject$Anon...</td>\n",
       "      <td>0</td>\n",
       "      <td>0</td>\n",
       "      <td>0</td>\n",
       "      <td>0</td>\n",
       "      <td>0</td>\n",
       "    </tr>\n",
       "    <tr>\n",
       "      <th>class</th>\n",
       "      <td>net.sourceforge.ganttproject.GanttProject$Anon...</td>\n",
       "      <td>0</td>\n",
       "      <td>0</td>\n",
       "      <td>0</td>\n",
       "      <td>0</td>\n",
       "      <td>0</td>\n",
       "    </tr>\n",
       "    <tr>\n",
       "      <th>...</th>\n",
       "      <td>...</td>\n",
       "      <td>...</td>\n",
       "      <td>...</td>\n",
       "      <td>...</td>\n",
       "      <td>...</td>\n",
       "      <td>...</td>\n",
       "    </tr>\n",
       "    <tr>\n",
       "      <th>class</th>\n",
       "      <td>net.sourceforge.ganttproject.task.MutableTask</td>\n",
       "      <td>0</td>\n",
       "      <td>0</td>\n",
       "      <td>0</td>\n",
       "      <td>0</td>\n",
       "      <td>0</td>\n",
       "    </tr>\n",
       "    <tr>\n",
       "      <th>class</th>\n",
       "      <td>net.sourceforge.ganttproject.gui.options.Color...</td>\n",
       "      <td>0</td>\n",
       "      <td>0</td>\n",
       "      <td>0</td>\n",
       "      <td>0</td>\n",
       "      <td>0</td>\n",
       "    </tr>\n",
       "    <tr>\n",
       "      <th>class</th>\n",
       "      <td>net.sourceforge.ganttproject.gui.options.Color...</td>\n",
       "      <td>0</td>\n",
       "      <td>0</td>\n",
       "      <td>0</td>\n",
       "      <td>0</td>\n",
       "      <td>0</td>\n",
       "    </tr>\n",
       "    <tr>\n",
       "      <th>class</th>\n",
       "      <td>net.sourceforge.ganttproject.task.hierarchy.Ta...</td>\n",
       "      <td>0</td>\n",
       "      <td>0</td>\n",
       "      <td>0</td>\n",
       "      <td>0</td>\n",
       "      <td>0</td>\n",
       "    </tr>\n",
       "    <tr>\n",
       "      <th>class</th>\n",
       "      <td>net.sourceforge.ganttproject.gui.GanttDialogCa...</td>\n",
       "      <td>0</td>\n",
       "      <td>0</td>\n",
       "      <td>0</td>\n",
       "      <td>0</td>\n",
       "      <td>0</td>\n",
       "    </tr>\n",
       "  </tbody>\n",
       "</table>\n",
       "<p>397 rows × 6 columns</p>\n",
       "</div>"
      ],
      "text/plain": [
       "                                                   class data_class  \\\n",
       "class                                                NaN        NaN   \n",
       "class   net.sourceforge.ganttproject.gui.RolesTableModel          0   \n",
       "class  net.sourceforge.ganttproject.GanttProject$Anon...          0   \n",
       "class  net.sourceforge.ganttproject.GanttProject$Anon...          0   \n",
       "class  net.sourceforge.ganttproject.GanttProject$Anon...          0   \n",
       "...                                                  ...        ...   \n",
       "class      net.sourceforge.ganttproject.task.MutableTask          0   \n",
       "class  net.sourceforge.ganttproject.gui.options.Color...          0   \n",
       "class  net.sourceforge.ganttproject.gui.options.Color...          0   \n",
       "class  net.sourceforge.ganttproject.task.hierarchy.Ta...          0   \n",
       "class  net.sourceforge.ganttproject.gui.GanttDialogCa...          0   \n",
       "\n",
       "      large_class long_method feature_envy refused_bequest  \n",
       "class         NaN         NaN          NaN             NaN  \n",
       "class           0           0            1               0  \n",
       "class           0           0            0               0  \n",
       "class           0           0            0               0  \n",
       "class           0           0            0               0  \n",
       "...           ...         ...          ...             ...  \n",
       "class           0           0            0               0  \n",
       "class           0           0            0               0  \n",
       "class           0           0            0               0  \n",
       "class           0           0            0               0  \n",
       "class           0           0            0               0  \n",
       "\n",
       "[397 rows x 6 columns]"
      ]
     },
     "execution_count": 4,
     "metadata": {},
     "output_type": "execute_result"
    }
   ],
   "source": [
    "detector.df_bad_smells_detected"
   ]
  },
  {
   "cell_type": "code",
   "execution_count": 21,
   "metadata": {},
   "outputs": [
    {
     "data": {
      "text/plain": [
       "3.0"
      ]
     },
     "execution_count": 21,
     "metadata": {},
     "output_type": "execute_result"
    }
   ],
   "source": [
    "import pandas as pd\n",
    "from oracle_validation import OracleValidation\n",
    "\n",
    "oracle = OracleValidation(\"commons-logging\", \"Logging\", \"..//../../../Downloads/Resultado.xlsx\")\n",
    "oracle.validate()"
   ]
  },
  {
   "cell_type": "code",
   "execution_count": 22,
   "metadata": {},
   "outputs": [
    {
     "data": {
      "text/html": [
       "<div>\n",
       "<style scoped>\n",
       "    .dataframe tbody tr th:only-of-type {\n",
       "        vertical-align: middle;\n",
       "    }\n",
       "\n",
       "    .dataframe tbody tr th {\n",
       "        vertical-align: top;\n",
       "    }\n",
       "\n",
       "    .dataframe thead th {\n",
       "        text-align: right;\n",
       "    }\n",
       "</style>\n",
       "<table border=\"1\" class=\"dataframe\">\n",
       "  <thead>\n",
       "    <tr style=\"text-align: right;\">\n",
       "      <th></th>\n",
       "      <th>Bad smell</th>\n",
       "      <th>Classe</th>\n",
       "      <th>Método</th>\n",
       "    </tr>\n",
       "  </thead>\n",
       "  <tbody>\n",
       "    <tr>\n",
       "      <th>0</th>\n",
       "      <td>Large Class</td>\n",
       "      <td>org.apache.commons.logging.LogFactory.java</td>\n",
       "      <td>NaN</td>\n",
       "    </tr>\n",
       "    <tr>\n",
       "      <th>1</th>\n",
       "      <td>Long Method</td>\n",
       "      <td>org.apache.commons.logging.LogFactory.java</td>\n",
       "      <td>getFactory</td>\n",
       "    </tr>\n",
       "    <tr>\n",
       "      <th>2</th>\n",
       "      <td>Long Method</td>\n",
       "      <td>org.apache.commons.logging.LogFactory.java</td>\n",
       "      <td>getConfigurationFile</td>\n",
       "    </tr>\n",
       "  </tbody>\n",
       "</table>\n",
       "</div>"
      ],
      "text/plain": [
       "     Bad smell                                      Classe  \\\n",
       "0  Large Class  org.apache.commons.logging.LogFactory.java   \n",
       "1  Long Method  org.apache.commons.logging.LogFactory.java   \n",
       "2  Long Method  org.apache.commons.logging.LogFactory.java   \n",
       "\n",
       "                 Método  \n",
       "0                   NaN  \n",
       "1            getFactory  \n",
       "2  getConfigurationFile  "
      ]
     },
     "execution_count": 22,
     "metadata": {},
     "output_type": "execute_result"
    }
   ],
   "source": [
    "oracle.df_oracle_results"
   ]
  },
  {
   "cell_type": "code",
   "execution_count": 23,
   "metadata": {},
   "outputs": [
    {
     "data": {
      "text/html": [
       "<div>\n",
       "<style scoped>\n",
       "    .dataframe tbody tr th:only-of-type {\n",
       "        vertical-align: middle;\n",
       "    }\n",
       "\n",
       "    .dataframe tbody tr th {\n",
       "        vertical-align: top;\n",
       "    }\n",
       "\n",
       "    .dataframe thead th {\n",
       "        text-align: right;\n",
       "    }\n",
       "</style>\n",
       "<table border=\"1\" class=\"dataframe\">\n",
       "  <thead>\n",
       "    <tr style=\"text-align: right;\">\n",
       "      <th></th>\n",
       "      <th>Unnamed: 0</th>\n",
       "      <th>class</th>\n",
       "      <th>data_class</th>\n",
       "      <th>large_class</th>\n",
       "      <th>long_method</th>\n",
       "      <th>feature_envy</th>\n",
       "      <th>refused_bequest</th>\n",
       "    </tr>\n",
       "  </thead>\n",
       "  <tbody>\n",
       "    <tr>\n",
       "      <th>31</th>\n",
       "      <td>class</td>\n",
       "      <td>org.apache.commons.logging.LogFactory</td>\n",
       "      <td>1.0</td>\n",
       "      <td>1.0</td>\n",
       "      <td>4.0</td>\n",
       "      <td>1.0</td>\n",
       "      <td>0.0</td>\n",
       "    </tr>\n",
       "  </tbody>\n",
       "</table>\n",
       "</div>"
      ],
      "text/plain": [
       "   Unnamed: 0                                  class  data_class  large_class  \\\n",
       "31      class  org.apache.commons.logging.LogFactory         1.0          1.0   \n",
       "\n",
       "    long_method  feature_envy  refused_bequest  \n",
       "31          4.0           1.0              0.0  "
      ]
     },
     "execution_count": 23,
     "metadata": {},
     "output_type": "execute_result"
    }
   ],
   "source": [
    "oracle.df_bad_smells_detected[oracle.df_bad_smells_detected['class'] == \"org.apache.commons.logging.LogFactory\"]"
   ]
  }
 ],
 "metadata": {
  "kernelspec": {
   "display_name": "Python 3.8.3 64-bit",
   "language": "python",
   "name": "python3"
  },
  "language_info": {
   "codemirror_mode": {
    "name": "ipython",
    "version": 3
   },
   "file_extension": ".py",
   "mimetype": "text/x-python",
   "name": "python",
   "nbconvert_exporter": "python",
   "pygments_lexer": "ipython3",
   "version": "3.8.3"
  },
  "orig_nbformat": 4,
  "vscode": {
   "interpreter": {
    "hash": "43694f8278121c774a392ac4e3d3685bb4eaaf74f249810dcc8c330b59cc5f6d"
   }
  }
 },
 "nbformat": 4,
 "nbformat_minor": 2
}
