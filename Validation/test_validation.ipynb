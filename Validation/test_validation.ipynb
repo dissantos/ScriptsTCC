{
 "cells": [
  {
   "cell_type": "markdown",
   "metadata": {},
   "source": [
    "### Pré-processamento"
   ]
  },
  {
   "cell_type": "code",
   "execution_count": 10,
   "metadata": {},
   "outputs": [
    {
     "name": "stderr",
     "output_type": "stream",
     "text": [
      "UsageError: Line magic function `%python` not found (But cell magic `%%python` exists, did you mean that instead?).\n"
     ]
    }
   ],
   "source": []
  },
  {
   "cell_type": "code",
   "execution_count": 2,
   "metadata": {},
   "outputs": [],
   "source": [
    "import os\n",
    "import csv\n",
    "import pandas as pd\n",
    "import numpy as np\n",
    "from tqdm import tqdm\n",
    "\n",
    "\n",
    "\n",
    "%matplotlib inline"
   ]
  },
  {
   "cell_type": "code",
   "execution_count": 7,
   "metadata": {},
   "outputs": [],
   "source": [
    "systems_bugs = os.listdir(\"./Bugs/\")\n",
    "systems_metrics = os.listdir(\"./Metrics/\")"
   ]
  },
  {
   "cell_type": "code",
   "execution_count": 39,
   "metadata": {},
   "outputs": [],
   "source": [
    "system_id = 0\n",
    "for system_id in range(len(systems_bugs)):\n",
    "    bug_df = pd.read_csv(\"./Bugs/\" + systems_bugs[system_id], usecols=['LongName', 'bug'])\n",
    "    bug_df['class'] = bug_df['LongName']\n",
    "    bug_df = bug_df.drop('LongName', axis=1)\n",
    "\n",
    "    metric_df = pd.read_csv(\"./Metrics/\" + systems_metrics[system_id]).drop('file', axis=1)\n",
    "    metric_df['class'] = metric_df['class'].str.replace(\"Anonymous\", \"\")\n",
    "    \n",
    "    merged_df = pd.merge(metric_df, bug_df, on=\"class\")\n",
    "    system_name = systems_bugs[system_id].replace('-Unified.csv', '')\n",
    "    merged_df.to_csv('./MetricBugs/'+system_name+\".csv\", sep=';', decimal=\",\")"
   ]
  }
 ],
 "metadata": {
  "kernelspec": {
   "display_name": "Python 2.7.17 64-bit",
   "language": "python",
   "name": "python3"
  },
  "language_info": {
   "codemirror_mode": {
    "name": "ipython",
    "version": 3
   },
   "file_extension": ".py",
   "mimetype": "text/x-python",
   "name": "python",
   "nbconvert_exporter": "python",
   "pygments_lexer": "ipython3",
   "version": ""
  },
  "orig_nbformat": 4,
  "vscode": {
   "interpreter": {
    "hash": "c41245681b0c5dfdc198064911b7c792a0421ee2cbedc4ec4c9079156fd03e41"
   }
  }
 },
 "nbformat": 4,
 "nbformat_minor": 2
}
